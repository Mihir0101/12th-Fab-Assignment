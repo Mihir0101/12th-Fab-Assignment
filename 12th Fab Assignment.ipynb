{
 "cells": [
  {
   "cell_type": "markdown",
   "id": "eb9f0174-35fd-4dda-9588-627b11bd1039",
   "metadata": {},
   "source": [
    "# 12th Fab Assignment"
   ]
  },
  {
   "cell_type": "markdown",
   "id": "0d1cfa4b-a377-49fa-b213-4604835a2980",
   "metadata": {},
   "source": [
    "________________________________________________________________________________________________________________________________________________"
   ]
  },
  {
   "cell_type": "markdown",
   "id": "b591e125-d20b-45dc-98e4-9bfe253fe776",
   "metadata": {},
   "source": [
    "Q1. What is an exception in python?Difference between exception and syntax error."
   ]
  },
  {
   "cell_type": "markdown",
   "id": "13635556-d201-466b-a936-1caaca82a7c1",
   "metadata": {},
   "source": [
    "-> In python language the code executes line-by-line,so if an error occurs in any line,because of that we can't execute the code after \n",
    "   that errored code.\n",
    "    \n",
    "-> So,exception handling is for solve that major problem.\n",
    "\n",
    "-> Exception are raised when some internel events occur.\n",
    "\n",
    "-> With the help of exception handling we can write multiple-line code without any problem.\n",
    "\n",
    "-> If any error occurs in the program the exception handles it,and keep execute the code after that error code."
   ]
  },
  {
   "cell_type": "markdown",
   "id": "df1734f9-55b5-4ef2-93ea-eb4ddb863cf9",
   "metadata": {},
   "source": [
    "# Difference between exception and syntax error.\n",
    "\n",
    "# Syntax Error\n",
    "\n",
    "-> As the the name says the error which occurs because of wrong syntax.\n",
    "\n",
    "# Exception Handling\n",
    "\n",
    "-> Exception is raised when codes syntax is correct,but the code is resulted in an error."
   ]
  },
  {
   "cell_type": "markdown",
   "id": "ebe9f2ab-dc4e-41d0-82f2-6b454e3188e5",
   "metadata": {},
   "source": [
    "________________________________________________________________________________________________________________________________________________"
   ]
  },
  {
   "cell_type": "markdown",
   "id": "f1c7a28b-c816-4cc6-98da-f9b6b6f5d537",
   "metadata": {},
   "source": [
    "Q2. What happens when an exception is not handled?"
   ]
  },
  {
   "cell_type": "markdown",
   "id": "94b38a55-7e57-4bf6-9cbd-e8c464a7988f",
   "metadata": {},
   "source": [
    "-> Python have many in-built exceptions,it forces your program to occur an error.\n",
    "\n",
    "-> When the exception occur,it causes the program to pause and passes it until it is handled.\n",
    "\n",
    "-> If it not handled then our program will crash."
   ]
  },
  {
   "cell_type": "markdown",
   "id": "5e4c3aec-4749-420b-8dd6-82d5582548e6",
   "metadata": {},
   "source": [
    "# Example"
   ]
  },
  {
   "cell_type": "code",
   "execution_count": 4,
   "id": "b7216ead-1add-4ca5-a010-2b588332a8b0",
   "metadata": {},
   "outputs": [
    {
     "name": "stdout",
     "output_type": "stream",
     "text": [
      "This occurs!! [Errno 2] No such file or directory: 'te.txt'\n"
     ]
    }
   ],
   "source": [
    "try:\n",
    "    f=open(\"te.txt\",\"r\")\n",
    "except Exception as e:\n",
    "    print(\"This occurs!!\",e)\n",
    "    "
   ]
  },
  {
   "cell_type": "markdown",
   "id": "7e40bea7-fd2b-4805-bb02-e93e9f869885",
   "metadata": {},
   "source": [
    "________________________________________________________________________________________________________________________________________________"
   ]
  },
  {
   "cell_type": "markdown",
   "id": "b4805c5c-e0e3-4c31-89a5-2008cfcb1931",
   "metadata": {},
   "source": [
    "Q3. Which statement is used in python for catch and handle the exception?"
   ]
  },
  {
   "cell_type": "markdown",
   "id": "bb0795db-8241-4e97-8eba-70bb2cbf79dc",
   "metadata": {},
   "source": [
    "-> Try and except statement is used for catch and handle exception in python."
   ]
  },
  {
   "cell_type": "markdown",
   "id": "05f5dc3b-5a78-4031-a10a-340fa397c9c1",
   "metadata": {},
   "source": [
    "# Example"
   ]
  },
  {
   "cell_type": "code",
   "execution_count": 6,
   "id": "62840a77-90df-42fb-84eb-97de207bef7a",
   "metadata": {},
   "outputs": [
    {
     "name": "stdout",
     "output_type": "stream",
     "text": [
      "This is an example of it. [Errno 2] No such file or directory: 'f.txt'\n"
     ]
    }
   ],
   "source": [
    "try:\n",
    "    file=open(\"f.txt\",\"r\")\n",
    "except Exception as e:\n",
    "    print(\"This is an example of it.\",e)"
   ]
  },
  {
   "cell_type": "markdown",
   "id": "437700f7-e748-4c4a-90e8-b2bbcfe6c0aa",
   "metadata": {},
   "source": [
    "________________________________________________________________________________________________________________________________________________"
   ]
  },
  {
   "cell_type": "markdown",
   "id": "e35c2811-2d1b-482a-82f4-f12ef2cef38a",
   "metadata": {},
   "source": [
    "Q4. Explain with example\n",
    "\n",
    "1.try and else\n",
    "\n",
    "2.finally\n",
    "\n",
    "3.raise"
   ]
  },
  {
   "cell_type": "markdown",
   "id": "9e14ab28-cdfa-4cf4-baa5-a9b9a239910d",
   "metadata": {},
   "source": [
    "# 1. Try and else"
   ]
  },
  {
   "cell_type": "code",
   "execution_count": 11,
   "id": "28c0a4bf-cd32-4065-b2f1-cf6090c46988",
   "metadata": {},
   "outputs": [
    {
     "name": "stdout",
     "output_type": "stream",
     "text": [
      "0\n",
      "1\n",
      "2\n",
      "3\n",
      "4\n",
      "5\n",
      "6\n",
      "7\n",
      "8\n",
      "9\n",
      "Noice!\n"
     ]
    }
   ],
   "source": [
    "import logging\n",
    "logging.basicConfig(filename=\"gg.log\",level=logging.NOTSET,format='%(asctime)s,%(message)s')\n",
    "\n",
    "try:\n",
    "    for i in range(10):\n",
    "        logging.info(\"We will iterate through  the i\")\n",
    "        logging.info(\"It will print the number from 1 to 9\")\n",
    "        print(i)\n",
    "except Exception as e:\n",
    "    print(\"Hii\",e)\n",
    "    logging.info(\"It will execute when the error occurs in the code.\")\n",
    "else:\n",
    "    print(\"Noice!\")\n",
    "    logging.info(\"Else execute iteself when the code executes successfully!!!\")"
   ]
  },
  {
   "cell_type": "markdown",
   "id": "2bda7ef7-cb81-4809-940c-74a9b1168b25",
   "metadata": {},
   "source": [
    "# 2. Finally"
   ]
  },
  {
   "cell_type": "code",
   "execution_count": 12,
   "id": "954cb440-6489-477c-a895-d8272d7ec1d2",
   "metadata": {},
   "outputs": [
    {
     "name": "stdout",
     "output_type": "stream",
     "text": [
      "yoyo!\n"
     ]
    },
    {
     "ename": "FileNotFoundError",
     "evalue": "[Errno 2] No such file or directory: 'tx.txt'",
     "output_type": "error",
     "traceback": [
      "\u001b[0;31m---------------------------------------------------------------------------\u001b[0m",
      "\u001b[0;31mFileNotFoundError\u001b[0m                         Traceback (most recent call last)",
      "Cell \u001b[0;32mIn[12], line 2\u001b[0m\n\u001b[1;32m      1\u001b[0m \u001b[38;5;28;01mtry\u001b[39;00m:\n\u001b[0;32m----> 2\u001b[0m     f\u001b[38;5;241m=\u001b[39m\u001b[38;5;28;43mopen\u001b[39;49m\u001b[43m(\u001b[49m\u001b[38;5;124;43m\"\u001b[39;49m\u001b[38;5;124;43mtx.txt\u001b[39;49m\u001b[38;5;124;43m\"\u001b[39;49m\u001b[43m,\u001b[49m\u001b[38;5;124;43m\"\u001b[39;49m\u001b[38;5;124;43mr\u001b[39;49m\u001b[38;5;124;43m\"\u001b[39;49m\u001b[43m)\u001b[49m\n\u001b[1;32m      3\u001b[0m     logging\u001b[38;5;241m.\u001b[39minfo(\u001b[38;5;124m\"\u001b[39m\u001b[38;5;124mbecause of it error will occut!\u001b[39m\u001b[38;5;124m\"\u001b[39m)\n\u001b[1;32m      4\u001b[0m \u001b[38;5;28;01mfinally\u001b[39;00m:\n",
      "File \u001b[0;32m/opt/conda/lib/python3.10/site-packages/IPython/core/interactiveshell.py:282\u001b[0m, in \u001b[0;36m_modified_open\u001b[0;34m(file, *args, **kwargs)\u001b[0m\n\u001b[1;32m    275\u001b[0m \u001b[38;5;28;01mif\u001b[39;00m file \u001b[38;5;129;01min\u001b[39;00m {\u001b[38;5;241m0\u001b[39m, \u001b[38;5;241m1\u001b[39m, \u001b[38;5;241m2\u001b[39m}:\n\u001b[1;32m    276\u001b[0m     \u001b[38;5;28;01mraise\u001b[39;00m \u001b[38;5;167;01mValueError\u001b[39;00m(\n\u001b[1;32m    277\u001b[0m         \u001b[38;5;124mf\u001b[39m\u001b[38;5;124m\"\u001b[39m\u001b[38;5;124mIPython won\u001b[39m\u001b[38;5;124m'\u001b[39m\u001b[38;5;124mt let you open fd=\u001b[39m\u001b[38;5;132;01m{\u001b[39;00mfile\u001b[38;5;132;01m}\u001b[39;00m\u001b[38;5;124m by default \u001b[39m\u001b[38;5;124m\"\u001b[39m\n\u001b[1;32m    278\u001b[0m         \u001b[38;5;124m\"\u001b[39m\u001b[38;5;124mas it is likely to crash IPython. If you know what you are doing, \u001b[39m\u001b[38;5;124m\"\u001b[39m\n\u001b[1;32m    279\u001b[0m         \u001b[38;5;124m\"\u001b[39m\u001b[38;5;124myou can use builtins\u001b[39m\u001b[38;5;124m'\u001b[39m\u001b[38;5;124m open.\u001b[39m\u001b[38;5;124m\"\u001b[39m\n\u001b[1;32m    280\u001b[0m     )\n\u001b[0;32m--> 282\u001b[0m \u001b[38;5;28;01mreturn\u001b[39;00m \u001b[43mio_open\u001b[49m\u001b[43m(\u001b[49m\u001b[43mfile\u001b[49m\u001b[43m,\u001b[49m\u001b[43m \u001b[49m\u001b[38;5;241;43m*\u001b[39;49m\u001b[43margs\u001b[49m\u001b[43m,\u001b[49m\u001b[43m \u001b[49m\u001b[38;5;241;43m*\u001b[39;49m\u001b[38;5;241;43m*\u001b[39;49m\u001b[43mkwargs\u001b[49m\u001b[43m)\u001b[49m\n",
      "\u001b[0;31mFileNotFoundError\u001b[0m: [Errno 2] No such file or directory: 'tx.txt'"
     ]
    }
   ],
   "source": [
    "try:\n",
    "    f=open(\"tx.txt\",\"r\")\n",
    "    logging.info(\"because of it error will occut!\")\n",
    "finally:\n",
    "    print(\"yoyo!\")\n",
    "    logging.info(\"It doesn't affected by any situation,it execute by itself.\")"
   ]
  },
  {
   "cell_type": "markdown",
   "id": "c0c33af8-c334-44f4-9dd4-e12a5ecd0c1d",
   "metadata": {},
   "source": [
    "# 3. Raise"
   ]
  },
  {
   "cell_type": "code",
   "execution_count": 13,
   "id": "9398b1e2-a117-4b43-b329-0f0543b219b2",
   "metadata": {},
   "outputs": [
    {
     "name": "stdout",
     "output_type": "stream",
     "text": [
      "An exception\n"
     ]
    }
   ],
   "source": [
    "try: \n",
    "    raise NameError(\"Hi there\")  # Raise Error\n",
    "except NameError:\n",
    "    print (\"An exception\")"
   ]
  },
  {
   "cell_type": "markdown",
   "id": "b4af6bb2-bc67-4db2-9a1b-77132aa44e21",
   "metadata": {},
   "source": [
    "________________________________________________________________________________________________________________________________________________"
   ]
  },
  {
   "cell_type": "markdown",
   "id": "a01b9979-7ea5-4e9e-baf1-0429c5a21aef",
   "metadata": {},
   "source": [
    "Q5 .What is custom exception in python?Why do we need custom exception?"
   ]
  },
  {
   "cell_type": "markdown",
   "id": "e17d148f-5a62-4009-95a2-e6a8ea89d7ac",
   "metadata": {},
   "source": [
    "-> Custom exception is customize by the user.\n",
    "\n",
    "\n",
    "Need of custom exception\n",
    "\n",
    "-> There is many in-built exception for machine error in python,but some time code is wrong according to human logic.\n",
    "\n",
    "-> So,if the user want to raise the exception for that logic ,so he/she can take a help of custom exception."
   ]
  },
  {
   "cell_type": "markdown",
   "id": "9d0e1ae0-1e14-4ca6-ab84-4abd4c0516bd",
   "metadata": {},
   "source": [
    "#Exmple"
   ]
  },
  {
   "cell_type": "code",
   "execution_count": 14,
   "id": "b76590c4-a185-483b-8f90-2ebb45ccaa92",
   "metadata": {},
   "outputs": [
    {
     "name": "stdin",
     "output_type": "stream",
     "text": [
      "Enter your age -2\n"
     ]
    },
    {
     "name": "stdout",
     "output_type": "stream",
     "text": [
      "entered age is nagitive\n"
     ]
    }
   ],
   "source": [
    "class validateage(Exception):\n",
    "    \n",
    "    def __init__(self,msg):\n",
    "        self.msg=msg\n",
    "        logging.info(\"It takes the custom exception\")\n",
    "def custom(age):\n",
    "    if age < 0 :\n",
    "        raise validateage(\"entered age is nagitive\")\n",
    "    elif age > 200:\n",
    "        raise validateage(\"entered age is very high\")\n",
    "    else:\n",
    "        print(\"Age is Valid\")\n",
    "        logging.info(\"according to the input the message show on screen\")\n",
    "try:\n",
    "    age=int(input(\"Enter your age\"))\n",
    "    custom(age)\n",
    "except validateage as e:\n",
    "    print(e)"
   ]
  },
  {
   "cell_type": "markdown",
   "id": "e5828b10-fe75-4c17-9a33-99a0229f3c8e",
   "metadata": {},
   "source": [
    "________________________________________________________________________________________________________________________________________________"
   ]
  },
  {
   "cell_type": "markdown",
   "id": "2d02afca-34e5-428d-a0bd-4eb26744a89f",
   "metadata": {},
   "source": [
    "Q6. Creat a custom exception class.Use this class to handle an execption."
   ]
  },
  {
   "cell_type": "code",
   "execution_count": 1,
   "id": "5e8ef4f9-5834-49c0-813b-6510416c85e6",
   "metadata": {},
   "outputs": [
    {
     "name": "stdin",
     "output_type": "stream",
     "text": [
      "Enter your password mihirparmar\n"
     ]
    },
    {
     "name": "stdout",
     "output_type": "stream",
     "text": [
      "Invalid Password\n"
     ]
    }
   ],
   "source": [
    "class check(Exception):\n",
    "    \n",
    "    def __init__(self,password):\n",
    "        self.password=password\n",
    "\n",
    "\n",
    "def roar(pass_your_word):\n",
    "    if len(pass_your_word)>8:\n",
    "        raise check(\"Invalid Password\")\n",
    "    else:\n",
    "        print(\"Valid Password\")\n",
    "        \n",
    "try:\n",
    "    pass_your_word=input(\"Enter your password\")\n",
    "    roar(pass_your_word)\n",
    "except check as c:\n",
    "    print(c)"
   ]
  },
  {
   "cell_type": "code",
   "execution_count": null,
   "id": "5a5b6dc8-c4d8-4ad8-8719-6ec9dd9ffaa8",
   "metadata": {},
   "outputs": [],
   "source": []
  }
 ],
 "metadata": {
  "kernelspec": {
   "display_name": "Python 3 (ipykernel)",
   "language": "python",
   "name": "python3"
  },
  "language_info": {
   "codemirror_mode": {
    "name": "ipython",
    "version": 3
   },
   "file_extension": ".py",
   "mimetype": "text/x-python",
   "name": "python",
   "nbconvert_exporter": "python",
   "pygments_lexer": "ipython3",
   "version": "3.10.8"
  }
 },
 "nbformat": 4,
 "nbformat_minor": 5
}
